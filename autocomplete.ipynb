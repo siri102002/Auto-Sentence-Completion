{
  "nbformat": 4,
  "nbformat_minor": 0,
  "metadata": {
    "colab": {
      "provenance": []
    },
    "kernelspec": {
      "name": "python3",
      "display_name": "Python 3"
    },
    "language_info": {
      "name": "python"
    }
  },
  "cells": [
    {
      "cell_type": "code",
      "execution_count": 3,
      "metadata": {
        "id": "-pSrbfnHICoL"
      },
      "outputs": [],
      "source": [
        "import autocompleter \n",
        "autocompl = autocompleter.Autocompleter()"
      ]
    },
    {
      "cell_type": "code",
      "source": [
        "df = autocompl.import_json(\"/content/sample_conversations.json\")\n",
        "df.shape, df.columns"
      ],
      "metadata": {
        "colab": {
          "base_uri": "https://localhost:8080/"
        },
        "id": "nYXkEi1_IFWX",
        "outputId": "4207c6d4-e6f6-461b-cff6-02e2126d895e"
      },
      "execution_count": 4,
      "outputs": [
        {
          "output_type": "stream",
          "name": "stdout",
          "text": [
            "load json file...\n",
            "(22264, 3)\n"
          ]
        },
        {
          "output_type": "execute_result",
          "data": {
            "text/plain": [
              "((22264, 3), Index(['IsFromCustomer', 'Text', 'index'], dtype='object'))"
            ]
          },
          "metadata": {},
          "execution_count": 4
        }
      ]
    },
    {
      "cell_type": "code",
      "source": [
        "df.head()"
      ],
      "metadata": {
        "colab": {
          "base_uri": "https://localhost:8080/",
          "height": 206
        },
        "id": "B_f_hd8kIHNo",
        "outputId": "483a3f0d-f21a-4387-c6cb-6c0bc74beae9"
      },
      "execution_count": 5,
      "outputs": [
        {
          "output_type": "execute_result",
          "data": {
            "text/plain": [
              "   IsFromCustomer                                               Text  index\n",
              "0            True  Hi! I placed an order on your website and I ca...      0\n",
              "1            True         I think I used my email address to log in.      0\n",
              "2            True                               My battery exploded!      1\n",
              "3            True             It's on fire, it's melting the carpet!      1\n",
              "4            True                                  What should I do!      1"
            ],
            "text/html": [
              "\n",
              "  <div id=\"df-aed0cafe-f78d-43f8-9af9-10d56863b023\">\n",
              "    <div class=\"colab-df-container\">\n",
              "      <div>\n",
              "<style scoped>\n",
              "    .dataframe tbody tr th:only-of-type {\n",
              "        vertical-align: middle;\n",
              "    }\n",
              "\n",
              "    .dataframe tbody tr th {\n",
              "        vertical-align: top;\n",
              "    }\n",
              "\n",
              "    .dataframe thead th {\n",
              "        text-align: right;\n",
              "    }\n",
              "</style>\n",
              "<table border=\"1\" class=\"dataframe\">\n",
              "  <thead>\n",
              "    <tr style=\"text-align: right;\">\n",
              "      <th></th>\n",
              "      <th>IsFromCustomer</th>\n",
              "      <th>Text</th>\n",
              "      <th>index</th>\n",
              "    </tr>\n",
              "  </thead>\n",
              "  <tbody>\n",
              "    <tr>\n",
              "      <th>0</th>\n",
              "      <td>True</td>\n",
              "      <td>Hi! I placed an order on your website and I ca...</td>\n",
              "      <td>0</td>\n",
              "    </tr>\n",
              "    <tr>\n",
              "      <th>1</th>\n",
              "      <td>True</td>\n",
              "      <td>I think I used my email address to log in.</td>\n",
              "      <td>0</td>\n",
              "    </tr>\n",
              "    <tr>\n",
              "      <th>2</th>\n",
              "      <td>True</td>\n",
              "      <td>My battery exploded!</td>\n",
              "      <td>1</td>\n",
              "    </tr>\n",
              "    <tr>\n",
              "      <th>3</th>\n",
              "      <td>True</td>\n",
              "      <td>It's on fire, it's melting the carpet!</td>\n",
              "      <td>1</td>\n",
              "    </tr>\n",
              "    <tr>\n",
              "      <th>4</th>\n",
              "      <td>True</td>\n",
              "      <td>What should I do!</td>\n",
              "      <td>1</td>\n",
              "    </tr>\n",
              "  </tbody>\n",
              "</table>\n",
              "</div>\n",
              "      <button class=\"colab-df-convert\" onclick=\"convertToInteractive('df-aed0cafe-f78d-43f8-9af9-10d56863b023')\"\n",
              "              title=\"Convert this dataframe to an interactive table.\"\n",
              "              style=\"display:none;\">\n",
              "        \n",
              "  <svg xmlns=\"http://www.w3.org/2000/svg\" height=\"24px\"viewBox=\"0 0 24 24\"\n",
              "       width=\"24px\">\n",
              "    <path d=\"M0 0h24v24H0V0z\" fill=\"none\"/>\n",
              "    <path d=\"M18.56 5.44l.94 2.06.94-2.06 2.06-.94-2.06-.94-.94-2.06-.94 2.06-2.06.94zm-11 1L8.5 8.5l.94-2.06 2.06-.94-2.06-.94L8.5 2.5l-.94 2.06-2.06.94zm10 10l.94 2.06.94-2.06 2.06-.94-2.06-.94-.94-2.06-.94 2.06-2.06.94z\"/><path d=\"M17.41 7.96l-1.37-1.37c-.4-.4-.92-.59-1.43-.59-.52 0-1.04.2-1.43.59L10.3 9.45l-7.72 7.72c-.78.78-.78 2.05 0 2.83L4 21.41c.39.39.9.59 1.41.59.51 0 1.02-.2 1.41-.59l7.78-7.78 2.81-2.81c.8-.78.8-2.07 0-2.86zM5.41 20L4 18.59l7.72-7.72 1.47 1.35L5.41 20z\"/>\n",
              "  </svg>\n",
              "      </button>\n",
              "      \n",
              "  <style>\n",
              "    .colab-df-container {\n",
              "      display:flex;\n",
              "      flex-wrap:wrap;\n",
              "      gap: 12px;\n",
              "    }\n",
              "\n",
              "    .colab-df-convert {\n",
              "      background-color: #E8F0FE;\n",
              "      border: none;\n",
              "      border-radius: 50%;\n",
              "      cursor: pointer;\n",
              "      display: none;\n",
              "      fill: #1967D2;\n",
              "      height: 32px;\n",
              "      padding: 0 0 0 0;\n",
              "      width: 32px;\n",
              "    }\n",
              "\n",
              "    .colab-df-convert:hover {\n",
              "      background-color: #E2EBFA;\n",
              "      box-shadow: 0px 1px 2px rgba(60, 64, 67, 0.3), 0px 1px 3px 1px rgba(60, 64, 67, 0.15);\n",
              "      fill: #174EA6;\n",
              "    }\n",
              "\n",
              "    [theme=dark] .colab-df-convert {\n",
              "      background-color: #3B4455;\n",
              "      fill: #D2E3FC;\n",
              "    }\n",
              "\n",
              "    [theme=dark] .colab-df-convert:hover {\n",
              "      background-color: #434B5C;\n",
              "      box-shadow: 0px 1px 3px 1px rgba(0, 0, 0, 0.15);\n",
              "      filter: drop-shadow(0px 1px 2px rgba(0, 0, 0, 0.3));\n",
              "      fill: #FFFFFF;\n",
              "    }\n",
              "  </style>\n",
              "\n",
              "      <script>\n",
              "        const buttonEl =\n",
              "          document.querySelector('#df-aed0cafe-f78d-43f8-9af9-10d56863b023 button.colab-df-convert');\n",
              "        buttonEl.style.display =\n",
              "          google.colab.kernel.accessAllowed ? 'block' : 'none';\n",
              "\n",
              "        async function convertToInteractive(key) {\n",
              "          const element = document.querySelector('#df-aed0cafe-f78d-43f8-9af9-10d56863b023');\n",
              "          const dataTable =\n",
              "            await google.colab.kernel.invokeFunction('convertToInteractive',\n",
              "                                                     [key], {});\n",
              "          if (!dataTable) return;\n",
              "\n",
              "          const docLinkHtml = 'Like what you see? Visit the ' +\n",
              "            '<a target=\"_blank\" href=https://colab.research.google.com/notebooks/data_table.ipynb>data table notebook</a>'\n",
              "            + ' to learn more about interactive tables.';\n",
              "          element.innerHTML = '';\n",
              "          dataTable['output_type'] = 'display_data';\n",
              "          await google.colab.output.renderOutput(dataTable, element);\n",
              "          const docLink = document.createElement('div');\n",
              "          docLink.innerHTML = docLinkHtml;\n",
              "          element.appendChild(docLink);\n",
              "        }\n",
              "      </script>\n",
              "    </div>\n",
              "  </div>\n",
              "  "
            ]
          },
          "metadata": {},
          "execution_count": 5
        }
      ]
    },
    {
      "cell_type": "code",
      "source": [
        "new_df = autocompl.process_data(df)\n",
        "new_df.shape, new_df.columns"
      ],
      "metadata": {
        "colab": {
          "base_uri": "https://localhost:8080/"
        },
        "id": "-NtIWja0II99",
        "outputId": "c4899190-a095-4236-8705-6dd55a0af05a"
      },
      "execution_count": 6,
      "outputs": [
        {
          "output_type": "stream",
          "name": "stdout",
          "text": [
            "select representative threads...\n",
            "split sentenses on punctuation...\n",
            "Text Cleaning using simple regex...\n",
            "calculate nb words of sentenses...\n",
            "count occurence of sentenses...\n",
            "remove duplicates (keep last)...\n",
            "(8560, 5)\n"
          ]
        },
        {
          "output_type": "execute_result",
          "data": {
            "text/plain": [
              "((8560, 5),\n",
              " Index(['IsFromCustomer', 'Text', 'index', 'nb_words', 'Counts'], dtype='object'))"
            ]
          },
          "metadata": {},
          "execution_count": 6
        }
      ]
    },
    {
      "cell_type": "code",
      "source": [
        "model_tf, tfidf_matrice = autocompl.calc_matrice(new_df)"
      ],
      "metadata": {
        "colab": {
          "base_uri": "https://localhost:8080/"
        },
        "id": "J-GM7jB8IMc9",
        "outputId": "a37d44bf-be4b-473b-c2d3-8e11718b5ba8"
      },
      "execution_count": 7,
      "outputs": [
        {
          "output_type": "stream",
          "name": "stdout",
          "text": [
            "tfidf_matrice  (8560, 99397)\n"
          ]
        }
      ]
    },
    {
      "cell_type": "code",
      "source": [
        "prefix = 'when was'\n",
        "print(prefix,\"     \")\n",
        "autocompl.generate_completions(prefix, new_df, model_tf,tfidf_matrice)"
      ],
      "metadata": {
        "colab": {
          "base_uri": "https://localhost:8080/"
        },
        "id": "w9lN9LkcIPVB",
        "outputId": "2435897d-ee7b-43fe-875c-4317d48c711e"
      },
      "execution_count": 8,
      "outputs": [
        {
          "output_type": "stream",
          "name": "stdout",
          "text": [
            "when was      \n"
          ]
        },
        {
          "output_type": "execute_result",
          "data": {
            "text/plain": [
              "['When was the last time you changed your password?',\n",
              " 'When was your flight scheduled for?',\n",
              " 'When was the last time you tried?']"
            ]
          },
          "metadata": {},
          "execution_count": 8
        }
      ]
    },
    {
      "cell_type": "code",
      "source": [
        "prefix = 'when was'\n",
        "print(prefix)\n",
        "generated_completions = autocompl.generate_completions(prefix, new_df, model_tf, tfidf_matrice)\n",
        "actual_completions = ['When was the last time you changed your password?','When was your flight scheduled for?', 'When was the last time you tried?']\n",
        "correct_predictions = [c for c in generated_completions if c in actual_completions]\n",
        "accuracy = len(correct_predictions) / len(actual_completions)\n",
        "print(\"Generated completions:\", generated_completions)\n",
        "print(\"Actual completions:\", actual_completions)\n",
        "print(\"Accuracy:\", accuracy)"
      ],
      "metadata": {
        "colab": {
          "base_uri": "https://localhost:8080/"
        },
        "id": "5DRvdUPEJA6j",
        "outputId": "53835e89-8a6f-47c9-9f07-b18d55b13be9"
      },
      "execution_count": 9,
      "outputs": [
        {
          "output_type": "stream",
          "name": "stdout",
          "text": [
            "when was\n",
            "Generated completions: ['When was the last time you changed your password?', 'When was your flight scheduled for?', 'When was the last time you tried?']\n",
            "Actual completions: ['When was the last time you changed your password?', 'When was your flight scheduled for?', 'When was the last time you tried?']\n",
            "Accuracy: 1.0\n"
          ]
        }
      ]
    },
    {
      "cell_type": "code",
      "source": [
        "from sklearn.metrics import confusion_matrix, precision_score, recall_score, f1_score\n",
        "\n",
        "prefix = 'when was'\n",
        "print(prefix)\n",
        "generated_completions = autocompl.generate_completions(prefix, new_df, model_tf, tfidf_matrice)\n",
        "actual_completions = ['When was the last time you changed your password?','When was your flight scheduled for?', 'When was the last time you tried?']\n",
        "\n",
        "# calculate TP, FP, TN, FN\n",
        "TP = len([c for c in generated_completions if c in actual_completions])\n",
        "FP = len(generated_completions) - TP\n",
        "FN = len(actual_completions) - TP\n",
        "TN = len(new_df) - TP - FP - FN\n",
        "\n",
        "accuracy = (TP + TN) / len(new_df)\n",
        "\n",
        "# calculate precision, recall, and F1 score\n",
        "precision = precision_score(actual_completions, generated_completions, average='micro')\n",
        "recall = recall_score(actual_completions, generated_completions, average='micro')\n",
        "f1 = f1_score(actual_completions, generated_completions, average='micro')\n",
        "\n",
        "# print results\n",
        "print(\"Generated completions:\", generated_completions)\n",
        "print(\"Actual completions:\", actual_completions)\n",
        "print(\"Accuracy:\", accuracy)\n",
        "print(\"Precision:\", precision)\n",
        "print(\"Recall:\", recall)\n",
        "print(\"F1 score:\", f1)\n",
        "print(\"Confusion matrix:\\n\", confusion_matrix(actual_completions, generated_completions))\n",
        "\n",
        "import seaborn as sns\n",
        "import matplotlib.pyplot as plt\n",
        "\n",
        "# calculate confusion matrix\n",
        "cm = confusion_matrix(actual_completions, generated_completions)\n",
        "\n",
        "# plot confusion matrix as heatmap\n",
        "sns.heatmap(cm, annot=True, cmap='Blues', fmt='g')\n",
        "plt.xlabel('Predicted')\n",
        "plt.ylabel('Actual')\n",
        "plt.title('Confusion Matrix')\n",
        "plt.show()\n"
      ],
      "metadata": {
        "colab": {
          "base_uri": "https://localhost:8080/",
          "height": 683
        },
        "id": "XsqzhNM2K-Bs",
        "outputId": "bd4c5b8d-2a70-49cf-999b-dd396dba4fdf"
      },
      "execution_count": 10,
      "outputs": [
        {
          "output_type": "stream",
          "name": "stdout",
          "text": [
            "when was\n",
            "Generated completions: ['When was the last time you changed your password?', 'When was your flight scheduled for?', 'When was the last time you tried?']\n",
            "Actual completions: ['When was the last time you changed your password?', 'When was your flight scheduled for?', 'When was the last time you tried?']\n",
            "Accuracy: 1.0\n",
            "Precision: 1.0\n",
            "Recall: 1.0\n",
            "F1 score: 1.0\n",
            "Confusion matrix:\n",
            " [[1 0 0]\n",
            " [0 1 0]\n",
            " [0 0 1]]\n"
          ]
        },
        {
          "output_type": "display_data",
          "data": {
            "text/plain": [
              "<Figure size 640x480 with 2 Axes>"
            ],
            "image/png": "[encoded data removed]"
          },
          "metadata": {}
        }
      ]
    },
    {
      "cell_type": "code",
      "source": [
        "import seaborn as sns\n",
        "import matplotlib.pyplot as plt\n",
        "\n",
        "# calculate confusion matrix\n",
        "cm = confusion_matrix(actual_completions, generated_completions)\n",
        "\n",
        "# plot confusion matrix as heatmap\n",
        "sns.heatmap(cm, annot=True, cmap='Blues', fmt='g')\n",
        "plt.xlabel('Predicted')\n",
        "plt.ylabel('Actual')\n",
        "plt.title('Confusion Matrix')\n",
        "plt.show()\n"
      ],
      "metadata": {
        "colab": {
          "base_uri": "https://localhost:8080/",
          "height": 472
        },
        "id": "9LJUP3q8XdfG",
        "outputId": "44c16389-96e4-462e-d995-389234aa054e"
      },
      "execution_count": 11,
      "outputs": [
        {
          "output_type": "display_data",
          "data": {
            "text/plain": [
              "<Figure size 640x480 with 2 Axes>"
            ],
            "image/png": "[encoded data removed]"
          },
          "metadata": {}
        }
      ]
    },
    {
      "cell_type": "code",
      "source": [
        "import autocompleter \n",
        "import numpy as np\n",
        "from sklearn.model_selection import train_test_split\n",
        "\n",
        "autocompl = autocompleter.Autocompleter()\n",
        "df = autocompl.import_json(\"/content/sample_conversations.json\")\n",
        "new_df = autocompl.process_data(df)\n",
        "\n",
        "# Split the data into training and test sets\n",
        "train_df, test_df = train_test_split(new_df, test_size=0.2, random_state=42)\n",
        "\n",
        "# Calculate the TF-IDF matrix for the training data\n",
        "model_tf, tfidf_matrice = autocompl.calc_matrice(train_df)\n",
        "\n",
        "# Evaluate the model on the test set\n",
        "correct_predictions = 0\n",
        "total_predictions = 0\n",
        "\n",
        "for _, row in test_df.iterrows():\n",
        "    prefix = row['IsFromCustomer']\n",
        "    text = row['Text']\n",
        "    completions = autocompl.generate_completions(prefix, new_df, model_tf, tfidf_matrice)\n",
        "    if text in completions:\n",
        "        correct_predictions += 1\n",
        "    total_predictions += 1\n",
        "\n",
        "accuracy = correct_predictions / total_predictions\n",
        "print(\"Accuracy:\", accuracy)\n"
      ],
      "metadata": {
        "colab": {
          "base_uri": "https://localhost:8080/"
        },
        "id": "TiSho2zMJuaz",
        "outputId": "399178a9-69dd-4383-ece7-677356ca2346"
      },
      "execution_count": 12,
      "outputs": [
        {
          "output_type": "stream",
          "name": "stdout",
          "text": [
            "load json file...\n",
            "(22264, 3)\n",
            "select representative threads...\n",
            "split sentenses on punctuation...\n",
            "Text Cleaning using simple regex...\n",
            "calculate nb words of sentenses...\n",
            "count occurence of sentenses...\n",
            "remove duplicates (keep last)...\n",
            "(8560, 5)\n",
            "tfidf_matrice  (6848, 84249)\n",
            "Accuracy: 0.0\n"
          ]
        }
      ]
    }
  ]
}